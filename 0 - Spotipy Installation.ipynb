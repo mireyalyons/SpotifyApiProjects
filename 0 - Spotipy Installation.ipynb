{
 "cells": [
  {
   "cell_type": "code",
   "execution_count": 4,
   "id": "2532bdbe",
   "metadata": {},
   "outputs": [
    {
     "name": "stdout",
     "output_type": "stream",
     "text": [
      "Python 3.8.8\n"
     ]
    }
   ],
   "source": [
    "!python --version"
   ]
  },
  {
   "cell_type": "code",
   "execution_count": 1,
   "id": "63ed33df",
   "metadata": {},
   "outputs": [
    {
     "name": "stdout",
     "output_type": "stream",
     "text": [
      "Name: spotipy\n",
      "Version: 2.20.0\n",
      "Summary: A light weight Python library for the Spotify Web API\n",
      "Home-page: https://spotipy.readthedocs.org/\n",
      "Author: @plamere\n",
      "Author-email: paul@echonest.com\n",
      "License: MIT\n",
      "Location: c:\\users\\mirey\\anaconda3\\lib\\site-packages\n",
      "Requires: six, redis, requests, urllib3\n",
      "Required-by: \n",
      "Note: you may need to restart the kernel to use updated packages.\n"
     ]
    }
   ],
   "source": [
    "pip show spotipy"
   ]
  },
  {
   "cell_type": "code",
   "execution_count": null,
   "id": "37d32970",
   "metadata": {},
   "outputs": [],
   "source": []
  }
 ],
 "metadata": {
  "kernelspec": {
   "display_name": "Python 3",
   "language": "python",
   "name": "python3"
  },
  "language_info": {
   "codemirror_mode": {
    "name": "ipython",
    "version": 3
   },
   "file_extension": ".py",
   "mimetype": "text/x-python",
   "name": "python",
   "nbconvert_exporter": "python",
   "pygments_lexer": "ipython3",
   "version": "3.8.8"
  }
 },
 "nbformat": 4,
 "nbformat_minor": 5
}
